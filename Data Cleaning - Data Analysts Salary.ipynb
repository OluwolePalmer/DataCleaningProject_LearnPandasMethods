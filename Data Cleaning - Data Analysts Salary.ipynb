{
 "cells": [
  {
   "cell_type": "code",
   "execution_count": 1,
   "id": "469a48e2-c3a8-4090-af53-c9c3f09e51d1",
   "metadata": {},
   "outputs": [],
   "source": [
    "import pandas as pd"
   ]
  },
  {
   "cell_type": "code",
   "execution_count": 2,
   "id": "18cd2342-b46c-484e-a139-9c35a4e5005f",
   "metadata": {},
   "outputs": [],
   "source": [
    "df = pd.read_excel('Data Analyst Jobs.xlsx')"
   ]
  },
  {
   "cell_type": "code",
   "execution_count": 4,
   "id": "959d4a30-c729-45d0-b9a8-919f284e451f",
   "metadata": {},
   "outputs": [],
   "source": [
    "# to delete new lines in each entry in the company name column\n",
    "df['Company Name'] = df['Company Name'].str.replace('\\n', '*')"
   ]
  },
  {
   "cell_type": "code",
   "execution_count": 6,
   "id": "1c11efae-584d-4f35-8db7-f268b1bfdd7f",
   "metadata": {},
   "outputs": [],
   "source": [
    "# to split the company name column using * as separator\n",
    "df[['Company_Name', 'Deletecolumn']] = df['Company Name'].str.split('*', expand=True)"
   ]
  },
  {
   "cell_type": "code",
   "execution_count": 8,
   "id": "f4a9ba57-1c57-4b3d-b68f-3c07eff39448",
   "metadata": {},
   "outputs": [],
   "source": [
    "# to drop the former company name column and the 'deletecolumn'\n",
    "df.drop(['Company Name', 'Deletecolumn'], axis=1, inplace=True)"
   ]
  },
  {
   "cell_type": "code",
   "execution_count": 11,
   "id": "f3b14d36-243e-41fb-8e7b-f8c80eeb1fe1",
   "metadata": {},
   "outputs": [],
   "source": [
    "# df.sort_values(by='Company_Name', ascending=True, na_position='last')\n",
    "\n",
    "# to delete rows with no actual company's name. That is rows with the company name as '1' and 'NaN'\n",
    "\n",
    "df.drop(1, axis=0, inplace=True)\n",
    "df.dropna(subset=['Company_Name'], axis=0, inplace=True)"
   ]
  },
  {
   "cell_type": "code",
   "execution_count": 14,
   "id": "70148f7e-6e90-4674-a2ed-5f19d5873c50",
   "metadata": {},
   "outputs": [
    {
     "data": {
      "text/plain": [
       "Industry           0\n",
       "Salary Estimate    0\n",
       "Company_Name       0\n",
       "dtype: int64"
      ]
     },
     "execution_count": 14,
     "metadata": {},
     "output_type": "execute_result"
    }
   ],
   "source": [
    "# to check if there is still 'NaN' in company name column\n",
    "\n",
    "# df['Company_Name'].isnull()\n",
    "\n",
    "df.isnull().sum()"
   ]
  },
  {
   "cell_type": "code",
   "execution_count": 15,
   "id": "d4e83b0c-6003-4b05-accb-faa22d27b92a",
   "metadata": {},
   "outputs": [],
   "source": [
    "# to delete entries with '-1' from industry column\n",
    "\n",
    "df['Industry'] = df['Industry'].str.replace('-1', '')"
   ]
  },
  {
   "cell_type": "code",
   "execution_count": 17,
   "id": "4f6d13fa-61ec-41fb-af00-c6bdf9de2c0b",
   "metadata": {},
   "outputs": [],
   "source": [
    "# to split the salary estimate column into two columns: salary range and source.\n",
    "\n",
    "df[['Salary Range', 'Source']] = df['Salary Estimate'].str.split('(', expand=True)"
   ]
  },
  {
   "cell_type": "code",
   "execution_count": 19,
   "id": "42654bad-5c8b-49c6-99a3-92f00b1e5024",
   "metadata": {},
   "outputs": [],
   "source": [
    "# to drop the salary estimate column\n",
    "df.drop('Salary Estimate', axis=1, inplace=True)"
   ]
  },
  {
   "cell_type": "code",
   "execution_count": 21,
   "id": "603717cc-1378-4e7e-9c43-1477865fb859",
   "metadata": {},
   "outputs": [],
   "source": [
    "# to strip entries in the source column of 'est.)' characters\n",
    "df['Source'] = df['Source'].str.strip('est.)')"
   ]
  },
  {
   "cell_type": "code",
   "execution_count": 23,
   "id": "b60b467b-b5a7-42e1-ad4c-632a14189526",
   "metadata": {},
   "outputs": [],
   "source": [
    "# to reset the index\n",
    "df.reset_index(drop=True, inplace=True)"
   ]
  },
  {
   "cell_type": "code",
   "execution_count": 25,
   "id": "ec27c935-8255-404a-845c-4ca999b01109",
   "metadata": {},
   "outputs": [],
   "source": [
    "# to rearrange the columns such that salary range comes first, followed by company name, industry and source\n",
    "df = df[['Salary Range', 'Company_Name', 'Industry', 'Source']]"
   ]
  },
  {
   "cell_type": "code",
   "execution_count": 27,
   "id": "f4c9d56e-062e-40d1-8219-24453fcc5df2",
   "metadata": {},
   "outputs": [],
   "source": [
    "# to export the cleaned dataframe into an excel file\n",
    "df.to_excel('cleaneddataset_dataanalystsalary.xlsx')"
   ]
  },
  {
   "cell_type": "code",
   "execution_count": 26,
   "id": "a027d1e7-4381-43ba-9757-8888010b33a1",
   "metadata": {},
   "outputs": [
    {
     "data": {
      "text/html": [
       "<div>\n",
       "<style scoped>\n",
       "    .dataframe tbody tr th:only-of-type {\n",
       "        vertical-align: middle;\n",
       "    }\n",
       "\n",
       "    .dataframe tbody tr th {\n",
       "        vertical-align: top;\n",
       "    }\n",
       "\n",
       "    .dataframe thead th {\n",
       "        text-align: right;\n",
       "    }\n",
       "</style>\n",
       "<table border=\"1\" class=\"dataframe\">\n",
       "  <thead>\n",
       "    <tr style=\"text-align: right;\">\n",
       "      <th></th>\n",
       "      <th>Salary Range</th>\n",
       "      <th>Company_Name</th>\n",
       "      <th>Industry</th>\n",
       "      <th>Source</th>\n",
       "    </tr>\n",
       "  </thead>\n",
       "  <tbody>\n",
       "    <tr>\n",
       "      <th>0</th>\n",
       "      <td>$41K-$78K</td>\n",
       "      <td>2U</td>\n",
       "      <td>Enterprise Software &amp; Network Solutions</td>\n",
       "      <td>Glassdoor</td>\n",
       "    </tr>\n",
       "    <tr>\n",
       "      <th>1</th>\n",
       "      <td>$77K-$132K</td>\n",
       "      <td>8K Miles Software Services, Inc.</td>\n",
       "      <td>Computer Hardware &amp; Software</td>\n",
       "      <td>Glassdoor</td>\n",
       "    </tr>\n",
       "    <tr>\n",
       "      <th>2</th>\n",
       "      <td>$57K-$100K</td>\n",
       "      <td>22nd Century Staffing</td>\n",
       "      <td>Staffing &amp; Outsourcing</td>\n",
       "      <td>Glassdoor</td>\n",
       "    </tr>\n",
       "    <tr>\n",
       "      <th>3</th>\n",
       "      <td>$35K-$42K</td>\n",
       "      <td>22nd Century Technologies</td>\n",
       "      <td>IT Services</td>\n",
       "      <td>Glassdoor</td>\n",
       "    </tr>\n",
       "    <tr>\n",
       "      <th>4</th>\n",
       "      <td>$58K-$93K</td>\n",
       "      <td>212 Factors</td>\n",
       "      <td></td>\n",
       "      <td>Glassdoor</td>\n",
       "    </tr>\n",
       "    <tr>\n",
       "      <th>...</th>\n",
       "      <td>...</td>\n",
       "      <td>...</td>\n",
       "      <td>...</td>\n",
       "      <td>...</td>\n",
       "    </tr>\n",
       "    <tr>\n",
       "      <th>1505</th>\n",
       "      <td>$51K-$93K</td>\n",
       "      <td>Zoom</td>\n",
       "      <td>IT Services</td>\n",
       "      <td>Glassdoor</td>\n",
       "    </tr>\n",
       "    <tr>\n",
       "      <th>1506</th>\n",
       "      <td>$35K-$45K</td>\n",
       "      <td>ZS Associates</td>\n",
       "      <td>Consulting</td>\n",
       "      <td>Glassdoor</td>\n",
       "    </tr>\n",
       "    <tr>\n",
       "      <th>1507</th>\n",
       "      <td>$47K-$74K</td>\n",
       "      <td>ZS Associates, Inc.</td>\n",
       "      <td></td>\n",
       "      <td>Glassdoor</td>\n",
       "    </tr>\n",
       "    <tr>\n",
       "      <th>1508</th>\n",
       "      <td>$42K-$76K</td>\n",
       "      <td>Zynga</td>\n",
       "      <td>Video Games</td>\n",
       "      <td>Glassdoor</td>\n",
       "    </tr>\n",
       "    <tr>\n",
       "      <th>1509</th>\n",
       "      <td>$65K-$81K</td>\n",
       "      <td>zz-Tarzana Treatment Centers, Inc.</td>\n",
       "      <td></td>\n",
       "      <td>Glassdoor</td>\n",
       "    </tr>\n",
       "  </tbody>\n",
       "</table>\n",
       "<p>1510 rows × 4 columns</p>\n",
       "</div>"
      ],
      "text/plain": [
       "     Salary Range                        Company_Name  \\\n",
       "0      $41K-$78K                                   2U   \n",
       "1     $77K-$132K     8K Miles Software Services, Inc.   \n",
       "2     $57K-$100K                22nd Century Staffing   \n",
       "3      $35K-$42K            22nd Century Technologies   \n",
       "4      $58K-$93K                          212 Factors   \n",
       "...           ...                                 ...   \n",
       "1505   $51K-$93K                                 Zoom   \n",
       "1506   $35K-$45K                        ZS Associates   \n",
       "1507   $47K-$74K                  ZS Associates, Inc.   \n",
       "1508   $42K-$76K                                Zynga   \n",
       "1509   $65K-$81K   zz-Tarzana Treatment Centers, Inc.   \n",
       "\n",
       "                                     Industry      Source  \n",
       "0     Enterprise Software & Network Solutions  Glassdoor   \n",
       "1                Computer Hardware & Software  Glassdoor   \n",
       "2                      Staffing & Outsourcing  Glassdoor   \n",
       "3                                 IT Services  Glassdoor   \n",
       "4                                              Glassdoor   \n",
       "...                                       ...         ...  \n",
       "1505                              IT Services  Glassdoor   \n",
       "1506                               Consulting  Glassdoor   \n",
       "1507                                           Glassdoor   \n",
       "1508                              Video Games  Glassdoor   \n",
       "1509                                           Glassdoor   \n",
       "\n",
       "[1510 rows x 4 columns]"
      ]
     },
     "execution_count": 26,
     "metadata": {},
     "output_type": "execute_result"
    }
   ],
   "source": [
    "df"
   ]
  }
 ],
 "metadata": {
  "kernelspec": {
   "display_name": "Python 3 (ipykernel)",
   "language": "python",
   "name": "python3"
  },
  "language_info": {
   "codemirror_mode": {
    "name": "ipython",
    "version": 3
   },
   "file_extension": ".py",
   "mimetype": "text/x-python",
   "name": "python",
   "nbconvert_exporter": "python",
   "pygments_lexer": "ipython3",
   "version": "3.11.7"
  }
 },
 "nbformat": 4,
 "nbformat_minor": 5
}
